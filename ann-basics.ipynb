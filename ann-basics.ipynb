{
 "cells": [
  {
   "cell_type": "code",
   "execution_count": 1,
   "id": "5acb43d5",
   "metadata": {
    "_cell_guid": "b1076dfc-b9ad-4769-8c92-a6c4dae69d19",
    "_uuid": "8f2839f25d086af736a60e9eeb907d3b93b6e0e5",
    "execution": {
     "iopub.execute_input": "2023-12-03T14:21:34.017285Z",
     "iopub.status.busy": "2023-12-03T14:21:34.016772Z",
     "iopub.status.idle": "2023-12-03T14:21:34.978608Z",
     "shell.execute_reply": "2023-12-03T14:21:34.977722Z"
    },
    "papermill": {
     "duration": 0.980757,
     "end_time": "2023-12-03T14:21:34.981239",
     "exception": false,
     "start_time": "2023-12-03T14:21:34.000482",
     "status": "completed"
    },
    "tags": []
   },
   "outputs": [
    {
     "name": "stdout",
     "output_type": "stream",
     "text": [
      "/kaggle/input/credit-card-customer-churn-prediction/Churn_Modelling.csv\n"
     ]
    }
   ],
   "source": [
    "# This Python 3 environment comes with many helpful analytics libraries installed\n",
    "# It is defined by the kaggle/python Docker image: https://github.com/kaggle/docker-python\n",
    "# For example, here's several helpful packages to load\n",
    "\n",
    "import numpy as np # linear algebra\n",
    "import pandas as pd # data processing, CSV file I/O (e.g. pd.read_csv)\n",
    "\n",
    "# Input data files are available in the read-only \"../input/\" directory\n",
    "# For example, running this (by clicking run or pressing Shift+Enter) will list all files under the input directory\n",
    "\n",
    "import os\n",
    "for dirname, _, filenames in os.walk('/kaggle/input'):\n",
    "    for filename in filenames:\n",
    "        print(os.path.join(dirname, filename))\n",
    "\n",
    "# You can write up to 20GB to the current directory (/kaggle/working/) that gets preserved as output when you create a version using \"Save & Run All\" \n",
    "# You can also write temporary files to /kaggle/temp/, but they won't be saved outside of the current session"
   ]
  },
  {
   "cell_type": "code",
   "execution_count": 2,
   "id": "a34664a2",
   "metadata": {
    "execution": {
     "iopub.execute_input": "2023-12-03T14:21:35.012212Z",
     "iopub.status.busy": "2023-12-03T14:21:35.011657Z",
     "iopub.status.idle": "2023-12-03T14:21:35.063989Z",
     "shell.execute_reply": "2023-12-03T14:21:35.062903Z"
    },
    "papermill": {
     "duration": 0.071455,
     "end_time": "2023-12-03T14:21:35.067190",
     "exception": false,
     "start_time": "2023-12-03T14:21:34.995735",
     "status": "completed"
    },
    "tags": []
   },
   "outputs": [],
   "source": [
    "df = pd.read_csv('/kaggle/input/credit-card-customer-churn-prediction/Churn_Modelling.csv')"
   ]
  },
  {
   "cell_type": "code",
   "execution_count": 3,
   "id": "7de6ab31",
   "metadata": {
    "execution": {
     "iopub.execute_input": "2023-12-03T14:21:35.097681Z",
     "iopub.status.busy": "2023-12-03T14:21:35.097286Z",
     "iopub.status.idle": "2023-12-03T14:21:35.126834Z",
     "shell.execute_reply": "2023-12-03T14:21:35.125713Z"
    },
    "papermill": {
     "duration": 0.04803,
     "end_time": "2023-12-03T14:21:35.129721",
     "exception": false,
     "start_time": "2023-12-03T14:21:35.081691",
     "status": "completed"
    },
    "tags": []
   },
   "outputs": [
    {
     "data": {
      "text/html": [
       "<div>\n",
       "<style scoped>\n",
       "    .dataframe tbody tr th:only-of-type {\n",
       "        vertical-align: middle;\n",
       "    }\n",
       "\n",
       "    .dataframe tbody tr th {\n",
       "        vertical-align: top;\n",
       "    }\n",
       "\n",
       "    .dataframe thead th {\n",
       "        text-align: right;\n",
       "    }\n",
       "</style>\n",
       "<table border=\"1\" class=\"dataframe\">\n",
       "  <thead>\n",
       "    <tr style=\"text-align: right;\">\n",
       "      <th></th>\n",
       "      <th>RowNumber</th>\n",
       "      <th>CustomerId</th>\n",
       "      <th>Surname</th>\n",
       "      <th>CreditScore</th>\n",
       "      <th>Geography</th>\n",
       "      <th>Gender</th>\n",
       "      <th>Age</th>\n",
       "      <th>Tenure</th>\n",
       "      <th>Balance</th>\n",
       "      <th>NumOfProducts</th>\n",
       "      <th>HasCrCard</th>\n",
       "      <th>IsActiveMember</th>\n",
       "      <th>EstimatedSalary</th>\n",
       "      <th>Exited</th>\n",
       "    </tr>\n",
       "  </thead>\n",
       "  <tbody>\n",
       "    <tr>\n",
       "      <th>0</th>\n",
       "      <td>1</td>\n",
       "      <td>15634602</td>\n",
       "      <td>Hargrave</td>\n",
       "      <td>619</td>\n",
       "      <td>France</td>\n",
       "      <td>Female</td>\n",
       "      <td>42</td>\n",
       "      <td>2</td>\n",
       "      <td>0.00</td>\n",
       "      <td>1</td>\n",
       "      <td>1</td>\n",
       "      <td>1</td>\n",
       "      <td>101348.88</td>\n",
       "      <td>1</td>\n",
       "    </tr>\n",
       "    <tr>\n",
       "      <th>1</th>\n",
       "      <td>2</td>\n",
       "      <td>15647311</td>\n",
       "      <td>Hill</td>\n",
       "      <td>608</td>\n",
       "      <td>Spain</td>\n",
       "      <td>Female</td>\n",
       "      <td>41</td>\n",
       "      <td>1</td>\n",
       "      <td>83807.86</td>\n",
       "      <td>1</td>\n",
       "      <td>0</td>\n",
       "      <td>1</td>\n",
       "      <td>112542.58</td>\n",
       "      <td>0</td>\n",
       "    </tr>\n",
       "    <tr>\n",
       "      <th>2</th>\n",
       "      <td>3</td>\n",
       "      <td>15619304</td>\n",
       "      <td>Onio</td>\n",
       "      <td>502</td>\n",
       "      <td>France</td>\n",
       "      <td>Female</td>\n",
       "      <td>42</td>\n",
       "      <td>8</td>\n",
       "      <td>159660.80</td>\n",
       "      <td>3</td>\n",
       "      <td>1</td>\n",
       "      <td>0</td>\n",
       "      <td>113931.57</td>\n",
       "      <td>1</td>\n",
       "    </tr>\n",
       "    <tr>\n",
       "      <th>3</th>\n",
       "      <td>4</td>\n",
       "      <td>15701354</td>\n",
       "      <td>Boni</td>\n",
       "      <td>699</td>\n",
       "      <td>France</td>\n",
       "      <td>Female</td>\n",
       "      <td>39</td>\n",
       "      <td>1</td>\n",
       "      <td>0.00</td>\n",
       "      <td>2</td>\n",
       "      <td>0</td>\n",
       "      <td>0</td>\n",
       "      <td>93826.63</td>\n",
       "      <td>0</td>\n",
       "    </tr>\n",
       "    <tr>\n",
       "      <th>4</th>\n",
       "      <td>5</td>\n",
       "      <td>15737888</td>\n",
       "      <td>Mitchell</td>\n",
       "      <td>850</td>\n",
       "      <td>Spain</td>\n",
       "      <td>Female</td>\n",
       "      <td>43</td>\n",
       "      <td>2</td>\n",
       "      <td>125510.82</td>\n",
       "      <td>1</td>\n",
       "      <td>1</td>\n",
       "      <td>1</td>\n",
       "      <td>79084.10</td>\n",
       "      <td>0</td>\n",
       "    </tr>\n",
       "  </tbody>\n",
       "</table>\n",
       "</div>"
      ],
      "text/plain": [
       "   RowNumber  CustomerId   Surname  CreditScore Geography  Gender  Age  \\\n",
       "0          1    15634602  Hargrave          619    France  Female   42   \n",
       "1          2    15647311      Hill          608     Spain  Female   41   \n",
       "2          3    15619304      Onio          502    France  Female   42   \n",
       "3          4    15701354      Boni          699    France  Female   39   \n",
       "4          5    15737888  Mitchell          850     Spain  Female   43   \n",
       "\n",
       "   Tenure    Balance  NumOfProducts  HasCrCard  IsActiveMember  \\\n",
       "0       2       0.00              1          1               1   \n",
       "1       1   83807.86              1          0               1   \n",
       "2       8  159660.80              3          1               0   \n",
       "3       1       0.00              2          0               0   \n",
       "4       2  125510.82              1          1               1   \n",
       "\n",
       "   EstimatedSalary  Exited  \n",
       "0        101348.88       1  \n",
       "1        112542.58       0  \n",
       "2        113931.57       1  \n",
       "3         93826.63       0  \n",
       "4         79084.10       0  "
      ]
     },
     "execution_count": 3,
     "metadata": {},
     "output_type": "execute_result"
    }
   ],
   "source": [
    "df.head()"
   ]
  },
  {
   "cell_type": "code",
   "execution_count": 4,
   "id": "9962f41c",
   "metadata": {
    "execution": {
     "iopub.execute_input": "2023-12-03T14:21:35.160423Z",
     "iopub.status.busy": "2023-12-03T14:21:35.160050Z",
     "iopub.status.idle": "2023-12-03T14:21:35.166979Z",
     "shell.execute_reply": "2023-12-03T14:21:35.165812Z"
    },
    "papermill": {
     "duration": 0.025508,
     "end_time": "2023-12-03T14:21:35.169815",
     "exception": false,
     "start_time": "2023-12-03T14:21:35.144307",
     "status": "completed"
    },
    "tags": []
   },
   "outputs": [
    {
     "data": {
      "text/plain": [
       "(10000, 14)"
      ]
     },
     "execution_count": 4,
     "metadata": {},
     "output_type": "execute_result"
    }
   ],
   "source": [
    "df.shape\n"
   ]
  },
  {
   "cell_type": "code",
   "execution_count": 5,
   "id": "626f1385",
   "metadata": {
    "execution": {
     "iopub.execute_input": "2023-12-03T14:21:35.201360Z",
     "iopub.status.busy": "2023-12-03T14:21:35.200993Z",
     "iopub.status.idle": "2023-12-03T14:21:35.235946Z",
     "shell.execute_reply": "2023-12-03T14:21:35.234389Z"
    },
    "papermill": {
     "duration": 0.053843,
     "end_time": "2023-12-03T14:21:35.238670",
     "exception": false,
     "start_time": "2023-12-03T14:21:35.184827",
     "status": "completed"
    },
    "tags": []
   },
   "outputs": [
    {
     "name": "stdout",
     "output_type": "stream",
     "text": [
      "<class 'pandas.core.frame.DataFrame'>\n",
      "RangeIndex: 10000 entries, 0 to 9999\n",
      "Data columns (total 14 columns):\n",
      " #   Column           Non-Null Count  Dtype  \n",
      "---  ------           --------------  -----  \n",
      " 0   RowNumber        10000 non-null  int64  \n",
      " 1   CustomerId       10000 non-null  int64  \n",
      " 2   Surname          10000 non-null  object \n",
      " 3   CreditScore      10000 non-null  int64  \n",
      " 4   Geography        10000 non-null  object \n",
      " 5   Gender           10000 non-null  object \n",
      " 6   Age              10000 non-null  int64  \n",
      " 7   Tenure           10000 non-null  int64  \n",
      " 8   Balance          10000 non-null  float64\n",
      " 9   NumOfProducts    10000 non-null  int64  \n",
      " 10  HasCrCard        10000 non-null  int64  \n",
      " 11  IsActiveMember   10000 non-null  int64  \n",
      " 12  EstimatedSalary  10000 non-null  float64\n",
      " 13  Exited           10000 non-null  int64  \n",
      "dtypes: float64(2), int64(9), object(3)\n",
      "memory usage: 1.1+ MB\n"
     ]
    }
   ],
   "source": [
    "df.info()"
   ]
  },
  {
   "cell_type": "code",
   "execution_count": 6,
   "id": "7139ac05",
   "metadata": {
    "execution": {
     "iopub.execute_input": "2023-12-03T14:21:35.270763Z",
     "iopub.status.busy": "2023-12-03T14:21:35.270316Z",
     "iopub.status.idle": "2023-12-03T14:21:35.291027Z",
     "shell.execute_reply": "2023-12-03T14:21:35.290124Z"
    },
    "papermill": {
     "duration": 0.039825,
     "end_time": "2023-12-03T14:21:35.293574",
     "exception": false,
     "start_time": "2023-12-03T14:21:35.253749",
     "status": "completed"
    },
    "tags": []
   },
   "outputs": [
    {
     "data": {
      "text/plain": [
       "0"
      ]
     },
     "execution_count": 6,
     "metadata": {},
     "output_type": "execute_result"
    }
   ],
   "source": [
    "df.duplicated().sum()"
   ]
  },
  {
   "cell_type": "code",
   "execution_count": 7,
   "id": "713aa172",
   "metadata": {
    "execution": {
     "iopub.execute_input": "2023-12-03T14:21:35.326257Z",
     "iopub.status.busy": "2023-12-03T14:21:35.325882Z",
     "iopub.status.idle": "2023-12-03T14:21:35.334138Z",
     "shell.execute_reply": "2023-12-03T14:21:35.333016Z"
    },
    "papermill": {
     "duration": 0.027363,
     "end_time": "2023-12-03T14:21:35.336309",
     "exception": false,
     "start_time": "2023-12-03T14:21:35.308946",
     "status": "completed"
    },
    "tags": []
   },
   "outputs": [
    {
     "data": {
      "text/plain": [
       "Exited\n",
       "0    7963\n",
       "1    2037\n",
       "Name: count, dtype: int64"
      ]
     },
     "execution_count": 7,
     "metadata": {},
     "output_type": "execute_result"
    }
   ],
   "source": [
    "df['Exited'].value_counts()"
   ]
  },
  {
   "cell_type": "code",
   "execution_count": 8,
   "id": "e332b0d6",
   "metadata": {
    "execution": {
     "iopub.execute_input": "2023-12-03T14:21:35.368351Z",
     "iopub.status.busy": "2023-12-03T14:21:35.367919Z",
     "iopub.status.idle": "2023-12-03T14:21:35.372985Z",
     "shell.execute_reply": "2023-12-03T14:21:35.371823Z"
    },
    "papermill": {
     "duration": 0.024099,
     "end_time": "2023-12-03T14:21:35.375441",
     "exception": false,
     "start_time": "2023-12-03T14:21:35.351342",
     "status": "completed"
    },
    "tags": []
   },
   "outputs": [],
   "source": [
    "# looks like a imbalanced classification "
   ]
  },
  {
   "cell_type": "code",
   "execution_count": 9,
   "id": "b8367370",
   "metadata": {
    "execution": {
     "iopub.execute_input": "2023-12-03T14:21:35.408594Z",
     "iopub.status.busy": "2023-12-03T14:21:35.408168Z",
     "iopub.status.idle": "2023-12-03T14:21:35.417867Z",
     "shell.execute_reply": "2023-12-03T14:21:35.417005Z"
    },
    "papermill": {
     "duration": 0.029696,
     "end_time": "2023-12-03T14:21:35.420526",
     "exception": false,
     "start_time": "2023-12-03T14:21:35.390830",
     "status": "completed"
    },
    "tags": []
   },
   "outputs": [],
   "source": [
    "df.drop(['RowNumber', 'CustomerId', 'Surname'],axis =1, inplace = True)"
   ]
  },
  {
   "cell_type": "code",
   "execution_count": 10,
   "id": "b15fde52",
   "metadata": {
    "execution": {
     "iopub.execute_input": "2023-12-03T14:21:35.454040Z",
     "iopub.status.busy": "2023-12-03T14:21:35.453616Z",
     "iopub.status.idle": "2023-12-03T14:21:35.470225Z",
     "shell.execute_reply": "2023-12-03T14:21:35.469293Z"
    },
    "papermill": {
     "duration": 0.036101,
     "end_time": "2023-12-03T14:21:35.472587",
     "exception": false,
     "start_time": "2023-12-03T14:21:35.436486",
     "status": "completed"
    },
    "tags": []
   },
   "outputs": [
    {
     "data": {
      "text/html": [
       "<div>\n",
       "<style scoped>\n",
       "    .dataframe tbody tr th:only-of-type {\n",
       "        vertical-align: middle;\n",
       "    }\n",
       "\n",
       "    .dataframe tbody tr th {\n",
       "        vertical-align: top;\n",
       "    }\n",
       "\n",
       "    .dataframe thead th {\n",
       "        text-align: right;\n",
       "    }\n",
       "</style>\n",
       "<table border=\"1\" class=\"dataframe\">\n",
       "  <thead>\n",
       "    <tr style=\"text-align: right;\">\n",
       "      <th></th>\n",
       "      <th>CreditScore</th>\n",
       "      <th>Geography</th>\n",
       "      <th>Gender</th>\n",
       "      <th>Age</th>\n",
       "      <th>Tenure</th>\n",
       "      <th>Balance</th>\n",
       "      <th>NumOfProducts</th>\n",
       "      <th>HasCrCard</th>\n",
       "      <th>IsActiveMember</th>\n",
       "      <th>EstimatedSalary</th>\n",
       "      <th>Exited</th>\n",
       "    </tr>\n",
       "  </thead>\n",
       "  <tbody>\n",
       "    <tr>\n",
       "      <th>0</th>\n",
       "      <td>619</td>\n",
       "      <td>France</td>\n",
       "      <td>Female</td>\n",
       "      <td>42</td>\n",
       "      <td>2</td>\n",
       "      <td>0.00</td>\n",
       "      <td>1</td>\n",
       "      <td>1</td>\n",
       "      <td>1</td>\n",
       "      <td>101348.88</td>\n",
       "      <td>1</td>\n",
       "    </tr>\n",
       "    <tr>\n",
       "      <th>1</th>\n",
       "      <td>608</td>\n",
       "      <td>Spain</td>\n",
       "      <td>Female</td>\n",
       "      <td>41</td>\n",
       "      <td>1</td>\n",
       "      <td>83807.86</td>\n",
       "      <td>1</td>\n",
       "      <td>0</td>\n",
       "      <td>1</td>\n",
       "      <td>112542.58</td>\n",
       "      <td>0</td>\n",
       "    </tr>\n",
       "    <tr>\n",
       "      <th>2</th>\n",
       "      <td>502</td>\n",
       "      <td>France</td>\n",
       "      <td>Female</td>\n",
       "      <td>42</td>\n",
       "      <td>8</td>\n",
       "      <td>159660.80</td>\n",
       "      <td>3</td>\n",
       "      <td>1</td>\n",
       "      <td>0</td>\n",
       "      <td>113931.57</td>\n",
       "      <td>1</td>\n",
       "    </tr>\n",
       "    <tr>\n",
       "      <th>3</th>\n",
       "      <td>699</td>\n",
       "      <td>France</td>\n",
       "      <td>Female</td>\n",
       "      <td>39</td>\n",
       "      <td>1</td>\n",
       "      <td>0.00</td>\n",
       "      <td>2</td>\n",
       "      <td>0</td>\n",
       "      <td>0</td>\n",
       "      <td>93826.63</td>\n",
       "      <td>0</td>\n",
       "    </tr>\n",
       "    <tr>\n",
       "      <th>4</th>\n",
       "      <td>850</td>\n",
       "      <td>Spain</td>\n",
       "      <td>Female</td>\n",
       "      <td>43</td>\n",
       "      <td>2</td>\n",
       "      <td>125510.82</td>\n",
       "      <td>1</td>\n",
       "      <td>1</td>\n",
       "      <td>1</td>\n",
       "      <td>79084.10</td>\n",
       "      <td>0</td>\n",
       "    </tr>\n",
       "  </tbody>\n",
       "</table>\n",
       "</div>"
      ],
      "text/plain": [
       "   CreditScore Geography  Gender  Age  Tenure    Balance  NumOfProducts  \\\n",
       "0          619    France  Female   42       2       0.00              1   \n",
       "1          608     Spain  Female   41       1   83807.86              1   \n",
       "2          502    France  Female   42       8  159660.80              3   \n",
       "3          699    France  Female   39       1       0.00              2   \n",
       "4          850     Spain  Female   43       2  125510.82              1   \n",
       "\n",
       "   HasCrCard  IsActiveMember  EstimatedSalary  Exited  \n",
       "0          1               1        101348.88       1  \n",
       "1          0               1        112542.58       0  \n",
       "2          1               0        113931.57       1  \n",
       "3          0               0         93826.63       0  \n",
       "4          1               1         79084.10       0  "
      ]
     },
     "execution_count": 10,
     "metadata": {},
     "output_type": "execute_result"
    }
   ],
   "source": [
    "df.head()"
   ]
  },
  {
   "cell_type": "code",
   "execution_count": 11,
   "id": "ea9a9769",
   "metadata": {
    "execution": {
     "iopub.execute_input": "2023-12-03T14:21:35.505245Z",
     "iopub.status.busy": "2023-12-03T14:21:35.504805Z",
     "iopub.status.idle": "2023-12-03T14:21:35.509884Z",
     "shell.execute_reply": "2023-12-03T14:21:35.508684Z"
    },
    "papermill": {
     "duration": 0.024093,
     "end_time": "2023-12-03T14:21:35.512204",
     "exception": false,
     "start_time": "2023-12-03T14:21:35.488111",
     "status": "completed"
    },
    "tags": []
   },
   "outputs": [],
   "source": [
    "# the end goal is just to learn the ANN model using keras, so wont focus in feature engineering part for now.\n"
   ]
  },
  {
   "cell_type": "code",
   "execution_count": 12,
   "id": "e1d82c2c",
   "metadata": {
    "execution": {
     "iopub.execute_input": "2023-12-03T14:21:35.544660Z",
     "iopub.status.busy": "2023-12-03T14:21:35.544252Z",
     "iopub.status.idle": "2023-12-03T14:21:35.557447Z",
     "shell.execute_reply": "2023-12-03T14:21:35.556068Z"
    },
    "papermill": {
     "duration": 0.03257,
     "end_time": "2023-12-03T14:21:35.560164",
     "exception": false,
     "start_time": "2023-12-03T14:21:35.527594",
     "status": "completed"
    },
    "tags": []
   },
   "outputs": [],
   "source": [
    "df = pd.get_dummies(df, columns = ['Geography', 'Gender'], drop_first = True)"
   ]
  },
  {
   "cell_type": "code",
   "execution_count": 13,
   "id": "5e8aee07",
   "metadata": {
    "execution": {
     "iopub.execute_input": "2023-12-03T14:21:35.655597Z",
     "iopub.status.busy": "2023-12-03T14:21:35.654498Z",
     "iopub.status.idle": "2023-12-03T14:21:35.679720Z",
     "shell.execute_reply": "2023-12-03T14:21:35.678295Z"
    },
    "papermill": {
     "duration": 0.044337,
     "end_time": "2023-12-03T14:21:35.682184",
     "exception": false,
     "start_time": "2023-12-03T14:21:35.637847",
     "status": "completed"
    },
    "tags": []
   },
   "outputs": [
    {
     "data": {
      "text/html": [
       "<div>\n",
       "<style scoped>\n",
       "    .dataframe tbody tr th:only-of-type {\n",
       "        vertical-align: middle;\n",
       "    }\n",
       "\n",
       "    .dataframe tbody tr th {\n",
       "        vertical-align: top;\n",
       "    }\n",
       "\n",
       "    .dataframe thead th {\n",
       "        text-align: right;\n",
       "    }\n",
       "</style>\n",
       "<table border=\"1\" class=\"dataframe\">\n",
       "  <thead>\n",
       "    <tr style=\"text-align: right;\">\n",
       "      <th></th>\n",
       "      <th>CreditScore</th>\n",
       "      <th>Age</th>\n",
       "      <th>Tenure</th>\n",
       "      <th>Balance</th>\n",
       "      <th>NumOfProducts</th>\n",
       "      <th>HasCrCard</th>\n",
       "      <th>IsActiveMember</th>\n",
       "      <th>EstimatedSalary</th>\n",
       "      <th>Exited</th>\n",
       "      <th>Geography_Germany</th>\n",
       "      <th>Geography_Spain</th>\n",
       "      <th>Gender_Male</th>\n",
       "    </tr>\n",
       "  </thead>\n",
       "  <tbody>\n",
       "    <tr>\n",
       "      <th>0</th>\n",
       "      <td>619</td>\n",
       "      <td>42</td>\n",
       "      <td>2</td>\n",
       "      <td>0.00</td>\n",
       "      <td>1</td>\n",
       "      <td>1</td>\n",
       "      <td>1</td>\n",
       "      <td>101348.88</td>\n",
       "      <td>1</td>\n",
       "      <td>False</td>\n",
       "      <td>False</td>\n",
       "      <td>False</td>\n",
       "    </tr>\n",
       "    <tr>\n",
       "      <th>1</th>\n",
       "      <td>608</td>\n",
       "      <td>41</td>\n",
       "      <td>1</td>\n",
       "      <td>83807.86</td>\n",
       "      <td>1</td>\n",
       "      <td>0</td>\n",
       "      <td>1</td>\n",
       "      <td>112542.58</td>\n",
       "      <td>0</td>\n",
       "      <td>False</td>\n",
       "      <td>True</td>\n",
       "      <td>False</td>\n",
       "    </tr>\n",
       "    <tr>\n",
       "      <th>2</th>\n",
       "      <td>502</td>\n",
       "      <td>42</td>\n",
       "      <td>8</td>\n",
       "      <td>159660.80</td>\n",
       "      <td>3</td>\n",
       "      <td>1</td>\n",
       "      <td>0</td>\n",
       "      <td>113931.57</td>\n",
       "      <td>1</td>\n",
       "      <td>False</td>\n",
       "      <td>False</td>\n",
       "      <td>False</td>\n",
       "    </tr>\n",
       "    <tr>\n",
       "      <th>3</th>\n",
       "      <td>699</td>\n",
       "      <td>39</td>\n",
       "      <td>1</td>\n",
       "      <td>0.00</td>\n",
       "      <td>2</td>\n",
       "      <td>0</td>\n",
       "      <td>0</td>\n",
       "      <td>93826.63</td>\n",
       "      <td>0</td>\n",
       "      <td>False</td>\n",
       "      <td>False</td>\n",
       "      <td>False</td>\n",
       "    </tr>\n",
       "    <tr>\n",
       "      <th>4</th>\n",
       "      <td>850</td>\n",
       "      <td>43</td>\n",
       "      <td>2</td>\n",
       "      <td>125510.82</td>\n",
       "      <td>1</td>\n",
       "      <td>1</td>\n",
       "      <td>1</td>\n",
       "      <td>79084.10</td>\n",
       "      <td>0</td>\n",
       "      <td>False</td>\n",
       "      <td>True</td>\n",
       "      <td>False</td>\n",
       "    </tr>\n",
       "    <tr>\n",
       "      <th>...</th>\n",
       "      <td>...</td>\n",
       "      <td>...</td>\n",
       "      <td>...</td>\n",
       "      <td>...</td>\n",
       "      <td>...</td>\n",
       "      <td>...</td>\n",
       "      <td>...</td>\n",
       "      <td>...</td>\n",
       "      <td>...</td>\n",
       "      <td>...</td>\n",
       "      <td>...</td>\n",
       "      <td>...</td>\n",
       "    </tr>\n",
       "    <tr>\n",
       "      <th>9995</th>\n",
       "      <td>771</td>\n",
       "      <td>39</td>\n",
       "      <td>5</td>\n",
       "      <td>0.00</td>\n",
       "      <td>2</td>\n",
       "      <td>1</td>\n",
       "      <td>0</td>\n",
       "      <td>96270.64</td>\n",
       "      <td>0</td>\n",
       "      <td>False</td>\n",
       "      <td>False</td>\n",
       "      <td>True</td>\n",
       "    </tr>\n",
       "    <tr>\n",
       "      <th>9996</th>\n",
       "      <td>516</td>\n",
       "      <td>35</td>\n",
       "      <td>10</td>\n",
       "      <td>57369.61</td>\n",
       "      <td>1</td>\n",
       "      <td>1</td>\n",
       "      <td>1</td>\n",
       "      <td>101699.77</td>\n",
       "      <td>0</td>\n",
       "      <td>False</td>\n",
       "      <td>False</td>\n",
       "      <td>True</td>\n",
       "    </tr>\n",
       "    <tr>\n",
       "      <th>9997</th>\n",
       "      <td>709</td>\n",
       "      <td>36</td>\n",
       "      <td>7</td>\n",
       "      <td>0.00</td>\n",
       "      <td>1</td>\n",
       "      <td>0</td>\n",
       "      <td>1</td>\n",
       "      <td>42085.58</td>\n",
       "      <td>1</td>\n",
       "      <td>False</td>\n",
       "      <td>False</td>\n",
       "      <td>False</td>\n",
       "    </tr>\n",
       "    <tr>\n",
       "      <th>9998</th>\n",
       "      <td>772</td>\n",
       "      <td>42</td>\n",
       "      <td>3</td>\n",
       "      <td>75075.31</td>\n",
       "      <td>2</td>\n",
       "      <td>1</td>\n",
       "      <td>0</td>\n",
       "      <td>92888.52</td>\n",
       "      <td>1</td>\n",
       "      <td>True</td>\n",
       "      <td>False</td>\n",
       "      <td>True</td>\n",
       "    </tr>\n",
       "    <tr>\n",
       "      <th>9999</th>\n",
       "      <td>792</td>\n",
       "      <td>28</td>\n",
       "      <td>4</td>\n",
       "      <td>130142.79</td>\n",
       "      <td>1</td>\n",
       "      <td>1</td>\n",
       "      <td>0</td>\n",
       "      <td>38190.78</td>\n",
       "      <td>0</td>\n",
       "      <td>False</td>\n",
       "      <td>False</td>\n",
       "      <td>False</td>\n",
       "    </tr>\n",
       "  </tbody>\n",
       "</table>\n",
       "<p>10000 rows × 12 columns</p>\n",
       "</div>"
      ],
      "text/plain": [
       "      CreditScore  Age  Tenure    Balance  NumOfProducts  HasCrCard  \\\n",
       "0             619   42       2       0.00              1          1   \n",
       "1             608   41       1   83807.86              1          0   \n",
       "2             502   42       8  159660.80              3          1   \n",
       "3             699   39       1       0.00              2          0   \n",
       "4             850   43       2  125510.82              1          1   \n",
       "...           ...  ...     ...        ...            ...        ...   \n",
       "9995          771   39       5       0.00              2          1   \n",
       "9996          516   35      10   57369.61              1          1   \n",
       "9997          709   36       7       0.00              1          0   \n",
       "9998          772   42       3   75075.31              2          1   \n",
       "9999          792   28       4  130142.79              1          1   \n",
       "\n",
       "      IsActiveMember  EstimatedSalary  Exited  Geography_Germany  \\\n",
       "0                  1        101348.88       1              False   \n",
       "1                  1        112542.58       0              False   \n",
       "2                  0        113931.57       1              False   \n",
       "3                  0         93826.63       0              False   \n",
       "4                  1         79084.10       0              False   \n",
       "...              ...              ...     ...                ...   \n",
       "9995               0         96270.64       0              False   \n",
       "9996               1        101699.77       0              False   \n",
       "9997               1         42085.58       1              False   \n",
       "9998               0         92888.52       1               True   \n",
       "9999               0         38190.78       0              False   \n",
       "\n",
       "      Geography_Spain  Gender_Male  \n",
       "0               False        False  \n",
       "1                True        False  \n",
       "2               False        False  \n",
       "3               False        False  \n",
       "4                True        False  \n",
       "...               ...          ...  \n",
       "9995            False         True  \n",
       "9996            False         True  \n",
       "9997            False        False  \n",
       "9998            False         True  \n",
       "9999            False        False  \n",
       "\n",
       "[10000 rows x 12 columns]"
      ]
     },
     "execution_count": 13,
     "metadata": {},
     "output_type": "execute_result"
    }
   ],
   "source": [
    "df"
   ]
  },
  {
   "cell_type": "code",
   "execution_count": 14,
   "id": "5a41aa29",
   "metadata": {
    "execution": {
     "iopub.execute_input": "2023-12-03T14:21:35.716058Z",
     "iopub.status.busy": "2023-12-03T14:21:35.715668Z",
     "iopub.status.idle": "2023-12-03T14:21:35.720601Z",
     "shell.execute_reply": "2023-12-03T14:21:35.719535Z"
    },
    "papermill": {
     "duration": 0.02441,
     "end_time": "2023-12-03T14:21:35.722848",
     "exception": false,
     "start_time": "2023-12-03T14:21:35.698438",
     "status": "completed"
    },
    "tags": []
   },
   "outputs": [],
   "source": [
    "# before training the neural network, we need to make sure to scale the datasets."
   ]
  },
  {
   "cell_type": "code",
   "execution_count": 15,
   "id": "5f54c8dc",
   "metadata": {
    "execution": {
     "iopub.execute_input": "2023-12-03T14:21:35.757471Z",
     "iopub.status.busy": "2023-12-03T14:21:35.756657Z",
     "iopub.status.idle": "2023-12-03T14:21:37.233859Z",
     "shell.execute_reply": "2023-12-03T14:21:37.232722Z"
    },
    "papermill": {
     "duration": 1.497686,
     "end_time": "2023-12-03T14:21:37.236576",
     "exception": false,
     "start_time": "2023-12-03T14:21:35.738890",
     "status": "completed"
    },
    "tags": []
   },
   "outputs": [],
   "source": [
    "from sklearn.model_selection import train_test_split"
   ]
  },
  {
   "cell_type": "code",
   "execution_count": 16,
   "id": "2f3ef1f1",
   "metadata": {
    "execution": {
     "iopub.execute_input": "2023-12-03T14:21:37.273827Z",
     "iopub.status.busy": "2023-12-03T14:21:37.273380Z",
     "iopub.status.idle": "2023-12-03T14:21:37.281023Z",
     "shell.execute_reply": "2023-12-03T14:21:37.279788Z"
    },
    "papermill": {
     "duration": 0.028159,
     "end_time": "2023-12-03T14:21:37.283427",
     "exception": false,
     "start_time": "2023-12-03T14:21:37.255268",
     "status": "completed"
    },
    "tags": []
   },
   "outputs": [],
   "source": [
    "X = df.drop(['Exited'], axis = 1)\n",
    "y = df['Exited']"
   ]
  },
  {
   "cell_type": "code",
   "execution_count": 17,
   "id": "6e4244a1",
   "metadata": {
    "execution": {
     "iopub.execute_input": "2023-12-03T14:21:37.319243Z",
     "iopub.status.busy": "2023-12-03T14:21:37.318836Z",
     "iopub.status.idle": "2023-12-03T14:21:37.327575Z",
     "shell.execute_reply": "2023-12-03T14:21:37.326717Z"
    },
    "papermill": {
     "duration": 0.030111,
     "end_time": "2023-12-03T14:21:37.330153",
     "exception": false,
     "start_time": "2023-12-03T14:21:37.300042",
     "status": "completed"
    },
    "tags": []
   },
   "outputs": [],
   "source": [
    "X_train, X_test, y_train, y_test = train_test_split(X, y, test_size = 0.2, random_state = 1)"
   ]
  },
  {
   "cell_type": "code",
   "execution_count": 18,
   "id": "67b48538",
   "metadata": {
    "execution": {
     "iopub.execute_input": "2023-12-03T14:21:37.364154Z",
     "iopub.status.busy": "2023-12-03T14:21:37.363468Z",
     "iopub.status.idle": "2023-12-03T14:21:37.370506Z",
     "shell.execute_reply": "2023-12-03T14:21:37.369172Z"
    },
    "papermill": {
     "duration": 0.026979,
     "end_time": "2023-12-03T14:21:37.373076",
     "exception": false,
     "start_time": "2023-12-03T14:21:37.346097",
     "status": "completed"
    },
    "tags": []
   },
   "outputs": [
    {
     "data": {
      "text/plain": [
       "(8000, 11)"
      ]
     },
     "execution_count": 18,
     "metadata": {},
     "output_type": "execute_result"
    }
   ],
   "source": [
    "X_train.shape"
   ]
  },
  {
   "cell_type": "code",
   "execution_count": 19,
   "id": "4a2a2964",
   "metadata": {
    "execution": {
     "iopub.execute_input": "2023-12-03T14:21:37.408560Z",
     "iopub.status.busy": "2023-12-03T14:21:37.408188Z",
     "iopub.status.idle": "2023-12-03T14:21:37.429409Z",
     "shell.execute_reply": "2023-12-03T14:21:37.428133Z"
    },
    "papermill": {
     "duration": 0.042679,
     "end_time": "2023-12-03T14:21:37.432505",
     "exception": false,
     "start_time": "2023-12-03T14:21:37.389826",
     "status": "completed"
    },
    "tags": []
   },
   "outputs": [],
   "source": [
    "from sklearn.preprocessing import StandardScaler\n",
    "scaler = StandardScaler()\n",
    "X_train_scaled = scaler.fit_transform(X_train)\n",
    "X_test_scaled = scaler.transform(X_test)"
   ]
  },
  {
   "cell_type": "code",
   "execution_count": 20,
   "id": "f272145a",
   "metadata": {
    "execution": {
     "iopub.execute_input": "2023-12-03T14:21:37.467347Z",
     "iopub.status.busy": "2023-12-03T14:21:37.466954Z",
     "iopub.status.idle": "2023-12-03T14:21:37.475552Z",
     "shell.execute_reply": "2023-12-03T14:21:37.474375Z"
    },
    "papermill": {
     "duration": 0.028852,
     "end_time": "2023-12-03T14:21:37.478009",
     "exception": false,
     "start_time": "2023-12-03T14:21:37.449157",
     "status": "completed"
    },
    "tags": []
   },
   "outputs": [
    {
     "data": {
      "text/plain": [
       "array([[-0.23082038, -0.94449979, -0.70174202, ...,  1.71490137,\n",
       "        -0.57273139,  0.91509065],\n",
       "       [-0.25150912, -0.94449979, -0.35520275, ..., -0.58312392,\n",
       "        -0.57273139, -1.09278791],\n",
       "       [-0.3963303 ,  0.77498705,  0.33787579, ...,  1.71490137,\n",
       "        -0.57273139, -1.09278791],\n",
       "       ...,\n",
       "       [ 0.22433188,  0.58393295,  1.3774936 , ..., -0.58312392,\n",
       "        -0.57273139, -1.09278791],\n",
       "       [ 0.13123255,  0.01077067,  1.03095433, ..., -0.58312392,\n",
       "        -0.57273139, -1.09278791],\n",
       "       [ 1.1656695 ,  0.29735181,  0.33787579, ...,  1.71490137,\n",
       "        -0.57273139,  0.91509065]])"
      ]
     },
     "execution_count": 20,
     "metadata": {},
     "output_type": "execute_result"
    }
   ],
   "source": [
    "X_train_scaled"
   ]
  },
  {
   "cell_type": "raw",
   "id": "d4131012",
   "metadata": {
    "papermill": {
     "duration": 0.016316,
     "end_time": "2023-12-03T14:21:37.510879",
     "exception": false,
     "start_time": "2023-12-03T14:21:37.494563",
     "status": "completed"
    },
    "tags": []
   },
   "source": [
    "import tensorflow"
   ]
  },
  {
   "cell_type": "code",
   "execution_count": 21,
   "id": "0f1b3d2f",
   "metadata": {
    "execution": {
     "iopub.execute_input": "2023-12-03T14:21:37.546387Z",
     "iopub.status.busy": "2023-12-03T14:21:37.545311Z",
     "iopub.status.idle": "2023-12-03T14:21:47.526158Z",
     "shell.execute_reply": "2023-12-03T14:21:47.524859Z"
    },
    "papermill": {
     "duration": 10.001626,
     "end_time": "2023-12-03T14:21:47.529011",
     "exception": false,
     "start_time": "2023-12-03T14:21:37.527385",
     "status": "completed"
    },
    "tags": []
   },
   "outputs": [],
   "source": [
    "from tensorflow import keras\n",
    "from tensorflow.keras import Sequential\n",
    "from tensorflow.keras.layers import Dense"
   ]
  },
  {
   "cell_type": "markdown",
   "id": "81728ad1",
   "metadata": {
    "papermill": {
     "duration": 0.016072,
     "end_time": "2023-12-03T14:21:47.562150",
     "exception": false,
     "start_time": "2023-12-03T14:21:47.546078",
     "status": "completed"
    },
    "tags": []
   },
   "source": [
    "keras is a high-level library that runs over the tensorflow.\n",
    "In Keras, we can build two models, sequential and non-sequential (functional) model. \n",
    "Sequential is a easy apporoach which is a linear stack of layers where we can add one layer at a time."
   ]
  },
  {
   "cell_type": "code",
   "execution_count": 22,
   "id": "5707da0b",
   "metadata": {
    "execution": {
     "iopub.execute_input": "2023-12-03T14:21:47.597183Z",
     "iopub.status.busy": "2023-12-03T14:21:47.596424Z",
     "iopub.status.idle": "2023-12-03T14:21:47.704170Z",
     "shell.execute_reply": "2023-12-03T14:21:47.702915Z"
    },
    "papermill": {
     "duration": 0.128541,
     "end_time": "2023-12-03T14:21:47.707030",
     "exception": false,
     "start_time": "2023-12-03T14:21:47.578489",
     "status": "completed"
    },
    "tags": []
   },
   "outputs": [],
   "source": [
    "model = Sequential()"
   ]
  },
  {
   "cell_type": "code",
   "execution_count": 23,
   "id": "ffe0471f",
   "metadata": {
    "execution": {
     "iopub.execute_input": "2023-12-03T14:21:47.741995Z",
     "iopub.status.busy": "2023-12-03T14:21:47.741563Z",
     "iopub.status.idle": "2023-12-03T14:21:47.840379Z",
     "shell.execute_reply": "2023-12-03T14:21:47.839209Z"
    },
    "papermill": {
     "duration": 0.119494,
     "end_time": "2023-12-03T14:21:47.843347",
     "exception": false,
     "start_time": "2023-12-03T14:21:47.723853",
     "status": "completed"
    },
    "tags": []
   },
   "outputs": [],
   "source": [
    "# building a neural network architecture\n",
    "model.add(Dense(11, activation = 'relu', input_dim = 11)) #hidden layer\n",
    "model.add(Dense(11, activation = 'relu')) #hidden layer\n",
    "model.add(Dense(1, activation = 'sigmoid' )) #output layer"
   ]
  },
  {
   "cell_type": "code",
   "execution_count": 24,
   "id": "133464cf",
   "metadata": {
    "execution": {
     "iopub.execute_input": "2023-12-03T14:21:47.879542Z",
     "iopub.status.busy": "2023-12-03T14:21:47.879139Z",
     "iopub.status.idle": "2023-12-03T14:21:47.900808Z",
     "shell.execute_reply": "2023-12-03T14:21:47.898973Z"
    },
    "papermill": {
     "duration": 0.047635,
     "end_time": "2023-12-03T14:21:47.908219",
     "exception": false,
     "start_time": "2023-12-03T14:21:47.860584",
     "status": "completed"
    },
    "tags": []
   },
   "outputs": [
    {
     "name": "stdout",
     "output_type": "stream",
     "text": [
      "Model: \"sequential\"\n",
      "_________________________________________________________________\n",
      " Layer (type)                Output Shape              Param #   \n",
      "=================================================================\n",
      " dense (Dense)               (None, 11)                132       \n",
      "                                                                 \n",
      " dense_1 (Dense)             (None, 11)                132       \n",
      "                                                                 \n",
      " dense_2 (Dense)             (None, 1)                 12        \n",
      "                                                                 \n",
      "=================================================================\n",
      "Total params: 276\n",
      "Trainable params: 276\n",
      "Non-trainable params: 0\n",
      "_________________________________________________________________\n"
     ]
    }
   ],
   "source": [
    "model.summary()"
   ]
  },
  {
   "cell_type": "markdown",
   "id": "d426f3df",
   "metadata": {
    "papermill": {
     "duration": 0.017533,
     "end_time": "2023-12-03T14:21:47.943473",
     "exception": false,
     "start_time": "2023-12-03T14:21:47.925940",
     "status": "completed"
    },
    "tags": []
   },
   "source": [
    "Compilation stage: we need to mention the loss function and optimizer for gradient descent."
   ]
  },
  {
   "cell_type": "code",
   "execution_count": 25,
   "id": "f293b3fa",
   "metadata": {
    "execution": {
     "iopub.execute_input": "2023-12-03T14:21:47.982016Z",
     "iopub.status.busy": "2023-12-03T14:21:47.981595Z",
     "iopub.status.idle": "2023-12-03T14:21:48.001684Z",
     "shell.execute_reply": "2023-12-03T14:21:48.000558Z"
    },
    "papermill": {
     "duration": 0.042239,
     "end_time": "2023-12-03T14:21:48.004434",
     "exception": false,
     "start_time": "2023-12-03T14:21:47.962195",
     "status": "completed"
    },
    "tags": []
   },
   "outputs": [],
   "source": [
    "model.compile(loss = 'binary_crossentropy', optimizer = 'Adam', metrics = ['accuracy'])"
   ]
  },
  {
   "cell_type": "code",
   "execution_count": 26,
   "id": "fc987dff",
   "metadata": {
    "execution": {
     "iopub.execute_input": "2023-12-03T14:21:48.041921Z",
     "iopub.status.busy": "2023-12-03T14:21:48.041521Z",
     "iopub.status.idle": "2023-12-03T14:21:48.046411Z",
     "shell.execute_reply": "2023-12-03T14:21:48.045269Z"
    },
    "papermill": {
     "duration": 0.026426,
     "end_time": "2023-12-03T14:21:48.048878",
     "exception": false,
     "start_time": "2023-12-03T14:21:48.022452",
     "status": "completed"
    },
    "tags": []
   },
   "outputs": [],
   "source": [
    "#model.fit(X_train_scaled, y_train, epochs = 100, validation_split = 0.2) # training the NN"
   ]
  },
  {
   "cell_type": "code",
   "execution_count": 27,
   "id": "ef08cec2",
   "metadata": {
    "execution": {
     "iopub.execute_input": "2023-12-03T14:21:48.086212Z",
     "iopub.status.busy": "2023-12-03T14:21:48.085587Z",
     "iopub.status.idle": "2023-12-03T14:21:48.101648Z",
     "shell.execute_reply": "2023-12-03T14:21:48.100540Z"
    },
    "papermill": {
     "duration": 0.037723,
     "end_time": "2023-12-03T14:21:48.104218",
     "exception": false,
     "start_time": "2023-12-03T14:21:48.066495",
     "status": "completed"
    },
    "tags": []
   },
   "outputs": [
    {
     "data": {
      "text/plain": [
       "[array([[-0.45983213,  0.35873294, -0.15661645,  0.49202245,  0.38128823,\n",
       "          0.39841682,  0.0413208 , -0.16130736,  0.18970102,  0.18594092,\n",
       "         -0.09445816],\n",
       "        [-0.26274383,  0.46368772,  0.19685948, -0.28650033, -0.20755026,\n",
       "         -0.5220715 ,  0.31900096,  0.3422833 ,  0.35008985,  0.1756804 ,\n",
       "          0.13814896],\n",
       "        [ 0.40229607,  0.05730128,  0.17879081,  0.10735792, -0.02883542,\n",
       "         -0.05226135,  0.36751193,  0.06909263, -0.22493461, -0.37894866,\n",
       "         -0.4481445 ],\n",
       "        [ 0.22068107,  0.2771846 ,  0.43739855,  0.07907909, -0.01409417,\n",
       "          0.4874552 , -0.29732937, -0.284171  , -0.02599147,  0.0113858 ,\n",
       "          0.3635733 ],\n",
       "        [ 0.14879346,  0.15052241, -0.35339734,  0.47223818,  0.28445226,\n",
       "         -0.00624478,  0.06112796, -0.32007235,  0.09323907,  0.5160311 ,\n",
       "          0.19606137],\n",
       "        [-0.05965587,  0.07866395, -0.16862866,  0.49217194, -0.5120494 ,\n",
       "         -0.46675825, -0.07876468, -0.14530358, -0.01792324,  0.01717067,\n",
       "         -0.21569535],\n",
       "        [-0.0168258 , -0.11882254, -0.2678836 ,  0.19503999, -0.13559991,\n",
       "          0.3686797 ,  0.41554242,  0.01868224,  0.06934041, -0.5116995 ,\n",
       "         -0.30074626],\n",
       "        [ 0.18967545,  0.5045913 ,  0.0867393 ,  0.01023525,  0.35265976,\n",
       "         -0.32979983,  0.0123992 ,  0.4330951 ,  0.0153771 ,  0.12143254,\n",
       "         -0.00340861],\n",
       "        [-0.46621114,  0.20077568,  0.16965765, -0.2479158 ,  0.23468935,\n",
       "         -0.33961245, -0.16366571, -0.25534183,  0.18273091,  0.23560572,\n",
       "          0.50460225],\n",
       "        [ 0.29724503, -0.4353801 , -0.33074248,  0.38141072,  0.30531818,\n",
       "         -0.20641598, -0.08525151,  0.49510723,  0.46211928, -0.11715847,\n",
       "         -0.03147727],\n",
       "        [ 0.0547899 , -0.30359757, -0.160288  ,  0.49149722,  0.47118187,\n",
       "          0.34891993,  0.35237128,  0.4899462 , -0.39463195, -0.3508429 ,\n",
       "          0.21622002]], dtype=float32),\n",
       " array([0., 0., 0., 0., 0., 0., 0., 0., 0., 0., 0.], dtype=float32)]"
      ]
     },
     "execution_count": 27,
     "metadata": {},
     "output_type": "execute_result"
    }
   ],
   "source": [
    "model.layers[0].get_weights()"
   ]
  },
  {
   "cell_type": "markdown",
   "id": "9a321e0b",
   "metadata": {
    "papermill": {
     "duration": 0.017418,
     "end_time": "2023-12-03T14:21:48.139894",
     "exception": false,
     "start_time": "2023-12-03T14:21:48.122476",
     "status": "completed"
    },
    "tags": []
   },
   "source": [
    "The value of trainable parameters ie. weights and biases."
   ]
  },
  {
   "cell_type": "code",
   "execution_count": 28,
   "id": "1e5823e8",
   "metadata": {
    "execution": {
     "iopub.execute_input": "2023-12-03T14:21:48.178887Z",
     "iopub.status.busy": "2023-12-03T14:21:48.177746Z",
     "iopub.status.idle": "2023-12-03T14:21:48.188671Z",
     "shell.execute_reply": "2023-12-03T14:21:48.187579Z"
    },
    "papermill": {
     "duration": 0.033267,
     "end_time": "2023-12-03T14:21:48.191090",
     "exception": false,
     "start_time": "2023-12-03T14:21:48.157823",
     "status": "completed"
    },
    "tags": []
   },
   "outputs": [
    {
     "data": {
      "text/plain": [
       "[array([[ 0.07338423,  0.37066066,  0.3883437 ,  0.3932851 ,  0.14840043,\n",
       "          0.4467156 ,  0.29376137, -0.42814645, -0.21184722,  0.31598765,\n",
       "          0.32607126],\n",
       "        [-0.29105216,  0.14928842,  0.26543438,  0.48681384,  0.3425033 ,\n",
       "         -0.05055407, -0.17691693, -0.0360271 , -0.22933069,  0.35684913,\n",
       "          0.44773686],\n",
       "        [-0.37910855, -0.05732954,  0.0182783 , -0.45618647, -0.28147486,\n",
       "          0.36554193,  0.4865567 , -0.29302466,  0.45852268, -0.5086907 ,\n",
       "         -0.21220782],\n",
       "        [-0.27244127,  0.4307269 , -0.20459029, -0.16449669, -0.35490242,\n",
       "          0.43622887,  0.0760684 , -0.13788116,  0.0503847 ,  0.12663817,\n",
       "          0.3390239 ],\n",
       "        [-0.21929443,  0.22021592, -0.28985563, -0.04750893,  0.32068795,\n",
       "         -0.29367995,  0.30898064,  0.36324126,  0.42285877,  0.16178846,\n",
       "          0.07531124],\n",
       "        [ 0.3548261 , -0.25638908, -0.3847927 , -0.43685478,  0.2509343 ,\n",
       "          0.21955717,  0.5004932 ,  0.3845439 ,  0.22239423,  0.0342592 ,\n",
       "          0.09602004],\n",
       "        [-0.45889145, -0.30834734, -0.27841055,  0.22313881, -0.38511127,\n",
       "         -0.26597226, -0.2138339 ,  0.2503069 , -0.25677183, -0.4789961 ,\n",
       "          0.05110949],\n",
       "        [-0.30006295, -0.4313456 ,  0.03589088,  0.05257899, -0.08759281,\n",
       "         -0.14431286,  0.32630467,  0.049932  , -0.34655464,  0.24542934,\n",
       "         -0.21125779],\n",
       "        [-0.3195677 ,  0.13468921, -0.1634869 , -0.29139557,  0.42163455,\n",
       "         -0.30418015,  0.03922004,  0.51185447,  0.21390402,  0.23518115,\n",
       "         -0.29467416],\n",
       "        [ 0.22154719,  0.14065701, -0.4585514 ,  0.3161341 ,  0.0009048 ,\n",
       "         -0.01133156,  0.3170973 ,  0.1659385 ,  0.256064  , -0.4227239 ,\n",
       "          0.47180462],\n",
       "        [ 0.4317519 , -0.2057572 , -0.48309883, -0.5181037 ,  0.31713033,\n",
       "         -0.02823302, -0.23925638, -0.01320094, -0.14852056,  0.14727956,\n",
       "          0.01966435]], dtype=float32),\n",
       " array([0., 0., 0., 0., 0., 0., 0., 0., 0., 0., 0.], dtype=float32)]"
      ]
     },
     "execution_count": 28,
     "metadata": {},
     "output_type": "execute_result"
    }
   ],
   "source": [
    "model.layers[1].get_weights()"
   ]
  },
  {
   "cell_type": "markdown",
   "id": "38363d7b",
   "metadata": {
    "papermill": {
     "duration": 0.018015,
     "end_time": "2023-12-03T14:21:48.227766",
     "exception": false,
     "start_time": "2023-12-03T14:21:48.209751",
     "status": "completed"
    },
    "tags": []
   },
   "source": [
    "weights and bias value of final layer."
   ]
  },
  {
   "cell_type": "code",
   "execution_count": 29,
   "id": "664203a9",
   "metadata": {
    "execution": {
     "iopub.execute_input": "2023-12-03T14:21:48.266027Z",
     "iopub.status.busy": "2023-12-03T14:21:48.265602Z",
     "iopub.status.idle": "2023-12-03T14:21:49.043388Z",
     "shell.execute_reply": "2023-12-03T14:21:49.042355Z"
    },
    "papermill": {
     "duration": 0.800122,
     "end_time": "2023-12-03T14:21:49.046012",
     "exception": false,
     "start_time": "2023-12-03T14:21:48.245890",
     "status": "completed"
    },
    "tags": []
   },
   "outputs": [
    {
     "name": "stdout",
     "output_type": "stream",
     "text": [
      "63/63 [==============================] - 0s 1ms/step\n"
     ]
    },
    {
     "data": {
      "text/plain": [
       "array([[0.510599  ],\n",
       "       [0.52491915],\n",
       "       [0.5124235 ],\n",
       "       ...,\n",
       "       [0.38481382],\n",
       "       [0.45057014],\n",
       "       [0.4842431 ]], dtype=float32)"
      ]
     },
     "execution_count": 29,
     "metadata": {},
     "output_type": "execute_result"
    }
   ],
   "source": [
    "model.predict(X_test_scaled)"
   ]
  },
  {
   "cell_type": "markdown",
   "id": "31c050b7",
   "metadata": {
    "papermill": {
     "duration": 0.018457,
     "end_time": "2023-12-03T14:21:49.083305",
     "exception": false,
     "start_time": "2023-12-03T14:21:49.064848",
     "status": "completed"
    },
    "tags": []
   },
   "source": [
    "since activation function is sigmoid."
   ]
  },
  {
   "cell_type": "code",
   "execution_count": 30,
   "id": "d084f319",
   "metadata": {
    "execution": {
     "iopub.execute_input": "2023-12-03T14:21:49.123829Z",
     "iopub.status.busy": "2023-12-03T14:21:49.122556Z",
     "iopub.status.idle": "2023-12-03T14:21:49.295081Z",
     "shell.execute_reply": "2023-12-03T14:21:49.293526Z"
    },
    "papermill": {
     "duration": 0.195773,
     "end_time": "2023-12-03T14:21:49.297933",
     "exception": false,
     "start_time": "2023-12-03T14:21:49.102160",
     "status": "completed"
    },
    "tags": []
   },
   "outputs": [
    {
     "name": "stdout",
     "output_type": "stream",
     "text": [
      "63/63 [==============================] - 0s 1ms/step\n"
     ]
    }
   ],
   "source": [
    "y_log = model.predict(X_test_scaled)\n",
    "y_pred = np.where(y_log > 0.5, 1,0)"
   ]
  },
  {
   "cell_type": "code",
   "execution_count": 31,
   "id": "a977d433",
   "metadata": {
    "execution": {
     "iopub.execute_input": "2023-12-03T14:21:49.338582Z",
     "iopub.status.busy": "2023-12-03T14:21:49.337543Z",
     "iopub.status.idle": "2023-12-03T14:21:49.346274Z",
     "shell.execute_reply": "2023-12-03T14:21:49.345203Z"
    },
    "papermill": {
     "duration": 0.031178,
     "end_time": "2023-12-03T14:21:49.348490",
     "exception": false,
     "start_time": "2023-12-03T14:21:49.317312",
     "status": "completed"
    },
    "tags": []
   },
   "outputs": [
    {
     "data": {
      "text/plain": [
       "0.586"
      ]
     },
     "execution_count": 31,
     "metadata": {},
     "output_type": "execute_result"
    }
   ],
   "source": [
    "from sklearn.metrics import accuracy_score\n",
    "accuracy_score(y_test, y_pred)"
   ]
  },
  {
   "cell_type": "markdown",
   "id": "1ebbaed1",
   "metadata": {
    "papermill": {
     "duration": 0.018706,
     "end_time": "2023-12-03T14:21:49.386043",
     "exception": false,
     "start_time": "2023-12-03T14:21:49.367337",
     "status": "completed"
    },
    "tags": []
   },
   "source": [
    "Now, for the improvement in the model performance, we can at first apply following steps:\n",
    "- increase no. of epochs\n",
    "- apply different activation function, relu can be effective.\n",
    "- increase no. of nodes in the hidden layer\n",
    "- increase the no. of hidden layers. But, adding no. of hidden layers unnecessarily can create the problem of overfitting."
   ]
  },
  {
   "cell_type": "markdown",
   "id": "ad5cdfc0",
   "metadata": {
    "papermill": {
     "duration": 0.018637,
     "end_time": "2023-12-03T14:21:49.423833",
     "exception": false,
     "start_time": "2023-12-03T14:21:49.405196",
     "status": "completed"
    },
    "tags": []
   },
   "source": [
    "By adding 'accuracy' as metrics during compilation, we can see accuracy in every epochs along with loss."
   ]
  },
  {
   "cell_type": "markdown",
   "id": "131e35fd",
   "metadata": {
    "papermill": {
     "duration": 0.018864,
     "end_time": "2023-12-03T14:21:49.462164",
     "exception": false,
     "start_time": "2023-12-03T14:21:49.443300",
     "status": "completed"
    },
    "tags": []
   },
   "source": [
    "We can observe that the accuracy of the training data is increasing while the accuracy of validating data is stagnating, so might be the case of overfitting."
   ]
  },
  {
   "cell_type": "markdown",
   "id": "78edcf4c",
   "metadata": {
    "papermill": {
     "duration": 0.019385,
     "end_time": "2023-12-03T14:21:49.500540",
     "exception": false,
     "start_time": "2023-12-03T14:21:49.481155",
     "status": "completed"
    },
    "tags": []
   },
   "source": []
  },
  {
   "cell_type": "markdown",
   "id": "fbb8ef31",
   "metadata": {
    "papermill": {
     "duration": 0.01856,
     "end_time": "2023-12-03T14:21:49.538142",
     "exception": false,
     "start_time": "2023-12-03T14:21:49.519582",
     "status": "completed"
    },
    "tags": []
   },
   "source": []
  },
  {
   "cell_type": "markdown",
   "id": "43e28b3e",
   "metadata": {
    "papermill": {
     "duration": 0.018801,
     "end_time": "2023-12-03T14:21:49.575947",
     "exception": false,
     "start_time": "2023-12-03T14:21:49.557146",
     "status": "completed"
    },
    "tags": []
   },
   "source": []
  },
  {
   "cell_type": "code",
   "execution_count": 32,
   "id": "c075ca43",
   "metadata": {
    "execution": {
     "iopub.execute_input": "2023-12-03T14:21:49.616526Z",
     "iopub.status.busy": "2023-12-03T14:21:49.615827Z",
     "iopub.status.idle": "2023-12-03T14:22:34.738269Z",
     "shell.execute_reply": "2023-12-03T14:22:34.736975Z"
    },
    "papermill": {
     "duration": 45.145971,
     "end_time": "2023-12-03T14:22:34.741275",
     "exception": false,
     "start_time": "2023-12-03T14:21:49.595304",
     "status": "completed"
    },
    "tags": []
   },
   "outputs": [
    {
     "name": "stdout",
     "output_type": "stream",
     "text": [
      "Epoch 1/100\n",
      "200/200 [==============================] - 2s 3ms/step - loss: 0.5338 - accuracy: 0.7798 - val_loss: 0.4733 - val_accuracy: 0.7975\n",
      "Epoch 2/100\n",
      "200/200 [==============================] - 0s 2ms/step - loss: 0.4512 - accuracy: 0.7984 - val_loss: 0.4418 - val_accuracy: 0.8006\n",
      "Epoch 3/100\n",
      "200/200 [==============================] - 0s 2ms/step - loss: 0.4296 - accuracy: 0.8094 - val_loss: 0.4292 - val_accuracy: 0.8075\n",
      "Epoch 4/100\n",
      "200/200 [==============================] - 0s 2ms/step - loss: 0.4190 - accuracy: 0.8163 - val_loss: 0.4207 - val_accuracy: 0.8144\n",
      "Epoch 5/100\n",
      "200/200 [==============================] - 0s 2ms/step - loss: 0.4102 - accuracy: 0.8244 - val_loss: 0.4103 - val_accuracy: 0.8150\n",
      "Epoch 6/100\n",
      "200/200 [==============================] - 0s 2ms/step - loss: 0.3992 - accuracy: 0.8336 - val_loss: 0.3992 - val_accuracy: 0.8244\n",
      "Epoch 7/100\n",
      "200/200 [==============================] - 0s 2ms/step - loss: 0.3860 - accuracy: 0.8436 - val_loss: 0.3850 - val_accuracy: 0.8325\n",
      "Epoch 8/100\n",
      "200/200 [==============================] - 0s 2ms/step - loss: 0.3723 - accuracy: 0.8495 - val_loss: 0.3726 - val_accuracy: 0.8444\n",
      "Epoch 9/100\n",
      "200/200 [==============================] - 0s 2ms/step - loss: 0.3612 - accuracy: 0.8523 - val_loss: 0.3657 - val_accuracy: 0.8481\n",
      "Epoch 10/100\n",
      "200/200 [==============================] - 0s 2ms/step - loss: 0.3549 - accuracy: 0.8567 - val_loss: 0.3608 - val_accuracy: 0.8525\n",
      "Epoch 11/100\n",
      "200/200 [==============================] - 0s 2ms/step - loss: 0.3500 - accuracy: 0.8595 - val_loss: 0.3564 - val_accuracy: 0.8500\n",
      "Epoch 12/100\n",
      "200/200 [==============================] - 0s 2ms/step - loss: 0.3469 - accuracy: 0.8606 - val_loss: 0.3541 - val_accuracy: 0.8519\n",
      "Epoch 13/100\n",
      "200/200 [==============================] - 0s 2ms/step - loss: 0.3446 - accuracy: 0.8616 - val_loss: 0.3516 - val_accuracy: 0.8537\n",
      "Epoch 14/100\n",
      "200/200 [==============================] - 0s 2ms/step - loss: 0.3428 - accuracy: 0.8620 - val_loss: 0.3507 - val_accuracy: 0.8531\n",
      "Epoch 15/100\n",
      "200/200 [==============================] - 0s 2ms/step - loss: 0.3412 - accuracy: 0.8641 - val_loss: 0.3522 - val_accuracy: 0.8481\n",
      "Epoch 16/100\n",
      "200/200 [==============================] - 0s 2ms/step - loss: 0.3401 - accuracy: 0.8639 - val_loss: 0.3496 - val_accuracy: 0.8487\n",
      "Epoch 17/100\n",
      "200/200 [==============================] - 0s 2ms/step - loss: 0.3392 - accuracy: 0.8644 - val_loss: 0.3480 - val_accuracy: 0.8487\n",
      "Epoch 18/100\n",
      "200/200 [==============================] - 0s 2ms/step - loss: 0.3382 - accuracy: 0.8647 - val_loss: 0.3495 - val_accuracy: 0.8512\n",
      "Epoch 19/100\n",
      "200/200 [==============================] - 0s 2ms/step - loss: 0.3379 - accuracy: 0.8641 - val_loss: 0.3471 - val_accuracy: 0.8487\n",
      "Epoch 20/100\n",
      "200/200 [==============================] - 0s 2ms/step - loss: 0.3371 - accuracy: 0.8658 - val_loss: 0.3480 - val_accuracy: 0.8500\n",
      "Epoch 21/100\n",
      "200/200 [==============================] - 0s 2ms/step - loss: 0.3371 - accuracy: 0.8637 - val_loss: 0.3449 - val_accuracy: 0.8519\n",
      "Epoch 22/100\n",
      "200/200 [==============================] - 1s 3ms/step - loss: 0.3356 - accuracy: 0.8656 - val_loss: 0.3444 - val_accuracy: 0.8544\n",
      "Epoch 23/100\n",
      "200/200 [==============================] - 0s 2ms/step - loss: 0.3355 - accuracy: 0.8644 - val_loss: 0.3445 - val_accuracy: 0.8525\n",
      "Epoch 24/100\n",
      "200/200 [==============================] - 0s 2ms/step - loss: 0.3352 - accuracy: 0.8650 - val_loss: 0.3440 - val_accuracy: 0.8512\n",
      "Epoch 25/100\n",
      "200/200 [==============================] - 0s 2ms/step - loss: 0.3342 - accuracy: 0.8652 - val_loss: 0.3433 - val_accuracy: 0.8537\n",
      "Epoch 26/100\n",
      "200/200 [==============================] - 0s 2ms/step - loss: 0.3339 - accuracy: 0.8633 - val_loss: 0.3446 - val_accuracy: 0.8506\n",
      "Epoch 27/100\n",
      "200/200 [==============================] - 0s 2ms/step - loss: 0.3336 - accuracy: 0.8659 - val_loss: 0.3416 - val_accuracy: 0.8525\n",
      "Epoch 28/100\n",
      "200/200 [==============================] - 0s 2ms/step - loss: 0.3334 - accuracy: 0.8645 - val_loss: 0.3435 - val_accuracy: 0.8487\n",
      "Epoch 29/100\n",
      "200/200 [==============================] - 0s 2ms/step - loss: 0.3328 - accuracy: 0.8656 - val_loss: 0.3428 - val_accuracy: 0.8500\n",
      "Epoch 30/100\n",
      "200/200 [==============================] - 0s 2ms/step - loss: 0.3330 - accuracy: 0.8659 - val_loss: 0.3426 - val_accuracy: 0.8525\n",
      "Epoch 31/100\n",
      "200/200 [==============================] - 0s 2ms/step - loss: 0.3324 - accuracy: 0.8652 - val_loss: 0.3414 - val_accuracy: 0.8525\n",
      "Epoch 32/100\n",
      "200/200 [==============================] - 0s 2ms/step - loss: 0.3317 - accuracy: 0.8662 - val_loss: 0.3405 - val_accuracy: 0.8544\n",
      "Epoch 33/100\n",
      "200/200 [==============================] - 0s 2ms/step - loss: 0.3316 - accuracy: 0.8667 - val_loss: 0.3421 - val_accuracy: 0.8506\n",
      "Epoch 34/100\n",
      "200/200 [==============================] - 0s 2ms/step - loss: 0.3311 - accuracy: 0.8658 - val_loss: 0.3419 - val_accuracy: 0.8494\n",
      "Epoch 35/100\n",
      "200/200 [==============================] - 0s 2ms/step - loss: 0.3312 - accuracy: 0.8658 - val_loss: 0.3404 - val_accuracy: 0.8537\n",
      "Epoch 36/100\n",
      "200/200 [==============================] - 0s 2ms/step - loss: 0.3305 - accuracy: 0.8647 - val_loss: 0.3403 - val_accuracy: 0.8531\n",
      "Epoch 37/100\n",
      "200/200 [==============================] - 0s 2ms/step - loss: 0.3306 - accuracy: 0.8636 - val_loss: 0.3404 - val_accuracy: 0.8512\n",
      "Epoch 38/100\n",
      "200/200 [==============================] - 0s 2ms/step - loss: 0.3302 - accuracy: 0.8655 - val_loss: 0.3396 - val_accuracy: 0.8525\n",
      "Epoch 39/100\n",
      "200/200 [==============================] - 0s 2ms/step - loss: 0.3301 - accuracy: 0.8662 - val_loss: 0.3394 - val_accuracy: 0.8519\n",
      "Epoch 40/100\n",
      "200/200 [==============================] - 0s 2ms/step - loss: 0.3298 - accuracy: 0.8631 - val_loss: 0.3401 - val_accuracy: 0.8525\n",
      "Epoch 41/100\n",
      "200/200 [==============================] - 0s 2ms/step - loss: 0.3296 - accuracy: 0.8639 - val_loss: 0.3394 - val_accuracy: 0.8525\n",
      "Epoch 42/100\n",
      "200/200 [==============================] - 1s 2ms/step - loss: 0.3287 - accuracy: 0.8652 - val_loss: 0.3423 - val_accuracy: 0.8494\n",
      "Epoch 43/100\n",
      "200/200 [==============================] - 0s 2ms/step - loss: 0.3290 - accuracy: 0.8670 - val_loss: 0.3395 - val_accuracy: 0.8531\n",
      "Epoch 44/100\n",
      "200/200 [==============================] - 0s 2ms/step - loss: 0.3289 - accuracy: 0.8659 - val_loss: 0.3389 - val_accuracy: 0.8519\n",
      "Epoch 45/100\n",
      "200/200 [==============================] - 0s 2ms/step - loss: 0.3285 - accuracy: 0.8670 - val_loss: 0.3404 - val_accuracy: 0.8531\n",
      "Epoch 46/100\n",
      "200/200 [==============================] - 1s 3ms/step - loss: 0.3277 - accuracy: 0.8658 - val_loss: 0.3399 - val_accuracy: 0.8512\n",
      "Epoch 47/100\n",
      "200/200 [==============================] - 0s 2ms/step - loss: 0.3278 - accuracy: 0.8669 - val_loss: 0.3386 - val_accuracy: 0.8506\n",
      "Epoch 48/100\n",
      "200/200 [==============================] - 0s 2ms/step - loss: 0.3277 - accuracy: 0.8652 - val_loss: 0.3395 - val_accuracy: 0.8550\n",
      "Epoch 49/100\n",
      "200/200 [==============================] - 0s 2ms/step - loss: 0.3277 - accuracy: 0.8670 - val_loss: 0.3377 - val_accuracy: 0.8544\n",
      "Epoch 50/100\n",
      "200/200 [==============================] - 0s 2ms/step - loss: 0.3275 - accuracy: 0.8662 - val_loss: 0.3377 - val_accuracy: 0.8537\n",
      "Epoch 51/100\n",
      "200/200 [==============================] - 0s 2ms/step - loss: 0.3273 - accuracy: 0.8653 - val_loss: 0.3376 - val_accuracy: 0.8550\n",
      "Epoch 52/100\n",
      "200/200 [==============================] - 0s 2ms/step - loss: 0.3270 - accuracy: 0.8669 - val_loss: 0.3382 - val_accuracy: 0.8550\n",
      "Epoch 53/100\n",
      "200/200 [==============================] - 0s 2ms/step - loss: 0.3268 - accuracy: 0.8677 - val_loss: 0.3369 - val_accuracy: 0.8531\n",
      "Epoch 54/100\n",
      "200/200 [==============================] - 0s 2ms/step - loss: 0.3267 - accuracy: 0.8683 - val_loss: 0.3387 - val_accuracy: 0.8519\n",
      "Epoch 55/100\n",
      "200/200 [==============================] - 0s 2ms/step - loss: 0.3262 - accuracy: 0.8677 - val_loss: 0.3371 - val_accuracy: 0.8531\n",
      "Epoch 56/100\n",
      "200/200 [==============================] - 1s 3ms/step - loss: 0.3262 - accuracy: 0.8670 - val_loss: 0.3388 - val_accuracy: 0.8506\n",
      "Epoch 57/100\n",
      "200/200 [==============================] - 0s 2ms/step - loss: 0.3261 - accuracy: 0.8675 - val_loss: 0.3387 - val_accuracy: 0.8512\n",
      "Epoch 58/100\n",
      "200/200 [==============================] - 1s 3ms/step - loss: 0.3255 - accuracy: 0.8667 - val_loss: 0.3393 - val_accuracy: 0.8506\n",
      "Epoch 59/100\n",
      "200/200 [==============================] - 0s 2ms/step - loss: 0.3256 - accuracy: 0.8667 - val_loss: 0.3379 - val_accuracy: 0.8550\n",
      "Epoch 60/100\n",
      "200/200 [==============================] - 0s 2ms/step - loss: 0.3256 - accuracy: 0.8653 - val_loss: 0.3382 - val_accuracy: 0.8525\n",
      "Epoch 61/100\n",
      "200/200 [==============================] - 0s 2ms/step - loss: 0.3253 - accuracy: 0.8670 - val_loss: 0.3376 - val_accuracy: 0.8556\n",
      "Epoch 62/100\n",
      "200/200 [==============================] - 0s 2ms/step - loss: 0.3248 - accuracy: 0.8666 - val_loss: 0.3380 - val_accuracy: 0.8544\n",
      "Epoch 63/100\n",
      "200/200 [==============================] - 0s 2ms/step - loss: 0.3255 - accuracy: 0.8653 - val_loss: 0.3382 - val_accuracy: 0.8556\n",
      "Epoch 64/100\n",
      "200/200 [==============================] - 0s 2ms/step - loss: 0.3244 - accuracy: 0.8670 - val_loss: 0.3397 - val_accuracy: 0.8556\n",
      "Epoch 65/100\n",
      "200/200 [==============================] - 0s 2ms/step - loss: 0.3246 - accuracy: 0.8673 - val_loss: 0.3387 - val_accuracy: 0.8537\n",
      "Epoch 66/100\n",
      "200/200 [==============================] - 0s 2ms/step - loss: 0.3253 - accuracy: 0.8666 - val_loss: 0.3382 - val_accuracy: 0.8531\n",
      "Epoch 67/100\n",
      "200/200 [==============================] - 0s 2ms/step - loss: 0.3244 - accuracy: 0.8677 - val_loss: 0.3381 - val_accuracy: 0.8556\n",
      "Epoch 68/100\n",
      "200/200 [==============================] - 0s 2ms/step - loss: 0.3242 - accuracy: 0.8659 - val_loss: 0.3372 - val_accuracy: 0.8562\n",
      "Epoch 69/100\n",
      "200/200 [==============================] - 0s 2ms/step - loss: 0.3242 - accuracy: 0.8661 - val_loss: 0.3375 - val_accuracy: 0.8537\n",
      "Epoch 70/100\n",
      "200/200 [==============================] - 1s 3ms/step - loss: 0.3235 - accuracy: 0.8655 - val_loss: 0.3375 - val_accuracy: 0.8556\n",
      "Epoch 71/100\n",
      "200/200 [==============================] - 0s 2ms/step - loss: 0.3238 - accuracy: 0.8666 - val_loss: 0.3389 - val_accuracy: 0.8525\n",
      "Epoch 72/100\n",
      "200/200 [==============================] - 0s 2ms/step - loss: 0.3235 - accuracy: 0.8667 - val_loss: 0.3393 - val_accuracy: 0.8544\n",
      "Epoch 73/100\n",
      "200/200 [==============================] - 1s 3ms/step - loss: 0.3233 - accuracy: 0.8670 - val_loss: 0.3374 - val_accuracy: 0.8562\n",
      "Epoch 74/100\n",
      "200/200 [==============================] - 0s 2ms/step - loss: 0.3222 - accuracy: 0.8656 - val_loss: 0.3394 - val_accuracy: 0.8544\n",
      "Epoch 75/100\n",
      "200/200 [==============================] - 0s 2ms/step - loss: 0.3229 - accuracy: 0.8677 - val_loss: 0.3389 - val_accuracy: 0.8537\n",
      "Epoch 76/100\n",
      "200/200 [==============================] - 0s 2ms/step - loss: 0.3229 - accuracy: 0.8656 - val_loss: 0.3388 - val_accuracy: 0.8550\n",
      "Epoch 77/100\n",
      "200/200 [==============================] - 1s 3ms/step - loss: 0.3223 - accuracy: 0.8673 - val_loss: 0.3391 - val_accuracy: 0.8556\n",
      "Epoch 78/100\n",
      "200/200 [==============================] - 0s 2ms/step - loss: 0.3227 - accuracy: 0.8647 - val_loss: 0.3391 - val_accuracy: 0.8531\n",
      "Epoch 79/100\n",
      "200/200 [==============================] - 0s 2ms/step - loss: 0.3218 - accuracy: 0.8672 - val_loss: 0.3389 - val_accuracy: 0.8550\n",
      "Epoch 80/100\n",
      "200/200 [==============================] - 0s 2ms/step - loss: 0.3221 - accuracy: 0.8652 - val_loss: 0.3399 - val_accuracy: 0.8544\n",
      "Epoch 81/100\n",
      "200/200 [==============================] - 0s 2ms/step - loss: 0.3219 - accuracy: 0.8672 - val_loss: 0.3399 - val_accuracy: 0.8544\n",
      "Epoch 82/100\n",
      "200/200 [==============================] - 0s 2ms/step - loss: 0.3217 - accuracy: 0.8672 - val_loss: 0.3411 - val_accuracy: 0.8537\n",
      "Epoch 83/100\n",
      "200/200 [==============================] - 0s 2ms/step - loss: 0.3214 - accuracy: 0.8659 - val_loss: 0.3417 - val_accuracy: 0.8544\n",
      "Epoch 84/100\n",
      "200/200 [==============================] - 0s 2ms/step - loss: 0.3215 - accuracy: 0.8644 - val_loss: 0.3407 - val_accuracy: 0.8537\n",
      "Epoch 85/100\n",
      "200/200 [==============================] - 0s 2ms/step - loss: 0.3212 - accuracy: 0.8677 - val_loss: 0.3406 - val_accuracy: 0.8544\n",
      "Epoch 86/100\n",
      "200/200 [==============================] - 0s 2ms/step - loss: 0.3210 - accuracy: 0.8656 - val_loss: 0.3389 - val_accuracy: 0.8537\n",
      "Epoch 87/100\n",
      "200/200 [==============================] - 0s 2ms/step - loss: 0.3205 - accuracy: 0.8677 - val_loss: 0.3411 - val_accuracy: 0.8537\n",
      "Epoch 88/100\n",
      "200/200 [==============================] - 0s 2ms/step - loss: 0.3209 - accuracy: 0.8683 - val_loss: 0.3399 - val_accuracy: 0.8537\n",
      "Epoch 89/100\n",
      "200/200 [==============================] - 0s 2ms/step - loss: 0.3203 - accuracy: 0.8670 - val_loss: 0.3414 - val_accuracy: 0.8525\n",
      "Epoch 90/100\n",
      "200/200 [==============================] - 0s 2ms/step - loss: 0.3204 - accuracy: 0.8670 - val_loss: 0.3404 - val_accuracy: 0.8544\n",
      "Epoch 91/100\n",
      "200/200 [==============================] - 0s 2ms/step - loss: 0.3201 - accuracy: 0.8653 - val_loss: 0.3406 - val_accuracy: 0.8525\n",
      "Epoch 92/100\n",
      "200/200 [==============================] - 0s 2ms/step - loss: 0.3199 - accuracy: 0.8666 - val_loss: 0.3411 - val_accuracy: 0.8544\n",
      "Epoch 93/100\n",
      "200/200 [==============================] - 0s 2ms/step - loss: 0.3205 - accuracy: 0.8669 - val_loss: 0.3417 - val_accuracy: 0.8525\n",
      "Epoch 94/100\n",
      "200/200 [==============================] - 0s 2ms/step - loss: 0.3201 - accuracy: 0.8648 - val_loss: 0.3431 - val_accuracy: 0.8537\n",
      "Epoch 95/100\n",
      "200/200 [==============================] - 0s 2ms/step - loss: 0.3197 - accuracy: 0.8666 - val_loss: 0.3409 - val_accuracy: 0.8531\n",
      "Epoch 96/100\n",
      "200/200 [==============================] - 1s 3ms/step - loss: 0.3194 - accuracy: 0.8662 - val_loss: 0.3418 - val_accuracy: 0.8537\n",
      "Epoch 97/100\n",
      "200/200 [==============================] - 0s 2ms/step - loss: 0.3195 - accuracy: 0.8647 - val_loss: 0.3430 - val_accuracy: 0.8512\n",
      "Epoch 98/100\n",
      "200/200 [==============================] - 0s 2ms/step - loss: 0.3200 - accuracy: 0.8650 - val_loss: 0.3412 - val_accuracy: 0.8531\n",
      "Epoch 99/100\n",
      "200/200 [==============================] - 0s 2ms/step - loss: 0.3195 - accuracy: 0.8681 - val_loss: 0.3406 - val_accuracy: 0.8537\n",
      "Epoch 100/100\n",
      "200/200 [==============================] - 0s 2ms/step - loss: 0.3193 - accuracy: 0.8659 - val_loss: 0.3421 - val_accuracy: 0.8544\n"
     ]
    }
   ],
   "source": [
    "# for plotting graph side by side. \n",
    "import matplotlib.pyplot as plt\n",
    "history = model.fit(X_train_scaled, y_train, epochs = 100, validation_split = 0.2)\n",
    "\n"
   ]
  },
  {
   "cell_type": "code",
   "execution_count": 33,
   "id": "f0966f84",
   "metadata": {
    "execution": {
     "iopub.execute_input": "2023-12-03T14:22:34.947141Z",
     "iopub.status.busy": "2023-12-03T14:22:34.946693Z",
     "iopub.status.idle": "2023-12-03T14:22:35.243465Z",
     "shell.execute_reply": "2023-12-03T14:22:35.242128Z"
    },
    "papermill": {
     "duration": 0.401962,
     "end_time": "2023-12-03T14:22:35.246061",
     "exception": false,
     "start_time": "2023-12-03T14:22:34.844099",
     "status": "completed"
    },
    "tags": []
   },
   "outputs": [
    {
     "data": {
      "text/plain": [
       "[<matplotlib.lines.Line2D at 0x7c9656ebf970>]"
      ]
     },
     "execution_count": 33,
     "metadata": {},
     "output_type": "execute_result"
    },
    {
     "data": {
      "image/png": "[encoded data removed]",
      "text/plain": [
       "<Figure size 640x480 with 1 Axes>"
      ]
     },
     "metadata": {},
     "output_type": "display_data"
    }
   ],
   "source": [
    "plt.plot(history.history['loss'])"
   ]
  },
  {
   "cell_type": "code",
   "execution_count": 34,
   "id": "91eca5d6",
   "metadata": {
    "execution": {
     "iopub.execute_input": "2023-12-03T14:22:35.455170Z",
     "iopub.status.busy": "2023-12-03T14:22:35.454781Z",
     "iopub.status.idle": "2023-12-03T14:22:35.724065Z",
     "shell.execute_reply": "2023-12-03T14:22:35.722854Z"
    },
    "papermill": {
     "duration": 0.374782,
     "end_time": "2023-12-03T14:22:35.726750",
     "exception": false,
     "start_time": "2023-12-03T14:22:35.351968",
     "status": "completed"
    },
    "tags": []
   },
   "outputs": [
    {
     "data": {
      "text/plain": [
       "[<matplotlib.lines.Line2D at 0x7c966df76b60>]"
      ]
     },
     "execution_count": 34,
     "metadata": {},
     "output_type": "execute_result"
    },
    {
     "data": {
      "image/png": "[encoded data removed]",
      "text/plain": [
       "<Figure size 640x480 with 1 Axes>"
      ]
     },
     "metadata": {},
     "output_type": "display_data"
    }
   ],
   "source": [
    "plt.plot(history.history['val_loss'])\n",
    "plt.plot(history.history['loss'])"
   ]
  },
  {
   "cell_type": "code",
   "execution_count": 35,
   "id": "ab4d3406",
   "metadata": {
    "execution": {
     "iopub.execute_input": "2023-12-03T14:22:35.939492Z",
     "iopub.status.busy": "2023-12-03T14:22:35.939027Z",
     "iopub.status.idle": "2023-12-03T14:22:36.239406Z",
     "shell.execute_reply": "2023-12-03T14:22:36.238165Z"
    },
    "papermill": {
     "duration": 0.411434,
     "end_time": "2023-12-03T14:22:36.242128",
     "exception": false,
     "start_time": "2023-12-03T14:22:35.830694",
     "status": "completed"
    },
    "tags": []
   },
   "outputs": [
    {
     "data": {
      "text/plain": [
       "[<matplotlib.lines.Line2D at 0x7c966dffad10>]"
      ]
     },
     "execution_count": 35,
     "metadata": {},
     "output_type": "execute_result"
    },
    {
     "data": {
      "image/png": "[encoded data removed]",
      "text/plain": [
       "<Figure size 640x480 with 1 Axes>"
      ]
     },
     "metadata": {},
     "output_type": "display_data"
    }
   ],
   "source": [
    "plt.plot(history.history['accuracy'])\n",
    "plt.plot(history.history['val_accuracy'])"
   ]
  },
  {
   "cell_type": "markdown",
   "id": "517cbfc5",
   "metadata": {
    "papermill": {
     "duration": 0.102916,
     "end_time": "2023-12-03T14:22:36.462462",
     "exception": false,
     "start_time": "2023-12-03T14:22:36.359546",
     "status": "completed"
    },
    "tags": []
   },
   "source": [
    "Finally, we can observe from both comparision graphs:\n",
    "- The model is somehow performing satisfactory.\n",
    "- The gap between the blue and the orange plot shows us the level of overfitting happening in our model. \n",
    "- concepts like regularization, dropout of layers, etc should be applied in our model. "
   ]
  },
  {
   "cell_type": "code",
   "execution_count": null,
   "id": "b199ef47",
   "metadata": {
    "papermill": {
     "duration": 0.102542,
     "end_time": "2023-12-03T14:22:36.669267",
     "exception": false,
     "start_time": "2023-12-03T14:22:36.566725",
     "status": "completed"
    },
    "tags": []
   },
   "outputs": [],
   "source": []
  }
 ],
 "metadata": {
  "kaggle": {
   "accelerator": "none",
   "dataSources": [
    {
     "datasetId": 869651,
     "sourceId": 1481789,
     "sourceType": "datasetVersion"
    }
   ],
   "dockerImageVersionId": 30558,
   "isGpuEnabled": false,
   "isInternetEnabled": false,
   "language": "python",
   "sourceType": "notebook"
  },
  "kernelspec": {
   "display_name": "Python 3",
   "language": "python",
   "name": "python3"
  },
  "language_info": {
   "codemirror_mode": {
    "name": "ipython",
    "version": 3
   },
   "file_extension": ".py",
   "mimetype": "text/x-python",
   "name": "python",
   "nbconvert_exporter": "python",
   "pygments_lexer": "ipython3",
   "version": "3.10.12"
  },
  "papermill": {
   "default_parameters": {},
   "duration": 68.854564,
   "end_time": "2023-12-03T14:22:38.501773",
   "environment_variables": {},
   "exception": null,
   "input_path": "__notebook__.ipynb",
   "output_path": "__notebook__.ipynb",
   "parameters": {},
   "start_time": "2023-12-03T14:21:29.647209",
   "version": "2.4.0"
  }
 },
 "nbformat": 4,
 "nbformat_minor": 5
}
